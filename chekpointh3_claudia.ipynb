{
  "nbformat": 4,
  "nbformat_minor": 0,
  "metadata": {
    "colab": {
      "provenance": []
    },
    "kernelspec": {
      "name": "python3",
      "display_name": "Python 3"
    },
    "language_info": {
      "name": "python"
    }
  },
  "cells": [
    {
      "cell_type": "markdown",
      "source": [
        "Nama: Maria Claudia Meo\n",
        "\n",
        "Nim : 2409116108"
      ],
      "metadata": {
        "id": "uF2c73T9rcEs"
      }
    },
    {
      "cell_type": "markdown",
      "source": [
        "# Business Understanding"
      ],
      "metadata": {
        "id": "5hsFN2YHzh0N"
      }
    },
    {
      "cell_type": "markdown",
      "source": [
        "## Business Objective"
      ],
      "metadata": {
        "id": "3ZiTeG6wzxUA"
      }
    },
    {
      "cell_type": "markdown",
      "source": [
        "Industri film terus berkembang dengan persaingan yang ketat antara berbagai studio produksi. Setiap film yang dirilis diharapkan dapat meraih keuntungan besar, namun kesuksesan finansial sebuah film tidak selalu bergantung pada anggaran produksinya. Oleh karena itu, tujuan utama dari analisis ini adalah untuk memahami faktor-faktor yang mempengaruhi keberhasilan film, terutama dalam kaitannya dengan pendapatan global. Dengan analisis ini, diharapkan rumah produksi dapat mengambil keputusan yang lebih tepat dalam mengalokasikan anggaran dan strategi pemasaran."
      ],
      "metadata": {
        "id": "E6SSebi9z15W"
      }
    },
    {
      "cell_type": "markdown",
      "source": [
        "## Assess Situation"
      ],
      "metadata": {
        "id": "2lQ1d_QCz5I4"
      }
    },
    {
      "cell_type": "markdown",
      "source": [
        "Dalam industri perfilman, berbagai faktor seperti anggaran produksi, rating IMDb, Metascore, serta strategi pemasaran dapat mempengaruhi pendapatan sebuah film. Namun, tidak semua faktor ini memiliki dampak yang sama terhadap keberhasilan film. Oleh karena itu, perlu dilakukan analisis untuk mengidentifikasi faktor mana yang memiliki korelasi tinggi terhadap kesuksesan film. Dataset yang digunakan dalam studi ini mencakup informasi tentang judul film, perusahaan produksi, rating, anggaran produksi, dan pendapatan domestik maupun global, yang dapat memberikan wawasan tentang tren industri film."
      ],
      "metadata": {
        "id": "W_TQ9iiOz8TP"
      }
    },
    {
      "cell_type": "markdown",
      "source": [
        "## Data Mining Goals"
      ],
      "metadata": {
        "id": "J_aFzGrMz_eY"
      }
    },
    {
      "cell_type": "markdown",
      "source": [
        "Tujuan utama dari analisis data ini adalah untuk menemukan pola dan hubungan antara berbagai faktor yang ada dalam dataset. Analisis ini akan mencakup eksplorasi data untuk memahami distribusi dan karakteristik dataset, serta penerapan metode statistik dan visualisasi untuk mengidentifikasi korelasi antara anggaran produksi, rating, dan pendapatan film. Dengan demikian, hasil analisis ini dapat digunakan untuk memberikan rekomendasi kepada rumah produksi mengenai strategi investasi yang lebih efektif."
      ],
      "metadata": {
        "id": "VQ1BJmb-0CxT"
      }
    },
    {
      "cell_type": "markdown",
      "source": [
        "# import library"
      ],
      "metadata": {
        "id": "0jcVK7XJxs5N"
      }
    },
    {
      "cell_type": "code",
      "execution_count": 12,
      "metadata": {
        "id": "uD5DmJTGrXSO"
      },
      "outputs": [],
      "source": [
        "import pandas as pd\n",
        "import numpy as np\n",
        "import matplotlib.pyplot as plt\n",
        "import seaborn as sns"
      ]
    },
    {
      "cell_type": "markdown",
      "source": [
        "# membaca data"
      ],
      "metadata": {
        "id": "vT9G7X9Wx5Fg"
      }
    },
    {
      "cell_type": "code",
      "source": [
        "df = pd.read_csv('/content/db.csv', encoding='latin-1')\n",
        "print(df)"
      ],
      "metadata": {
        "colab": {
          "base_uri": "https://localhost:8080/"
        },
        "id": "xwKnTBnBtW1M",
        "outputId": "54fb4e48-a8ea-4b79-a8a2-2504f9037474"
      },
      "execution_count": 13,
      "outputs": [
        {
          "output_type": "stream",
          "name": "stdout",
          "text": [
            "    Unnamed: 0                       Original Title Company  Rate  Metascore  \\\n",
            "0            1                             Iron Man  Marvel   7.9         79   \n",
            "1            2                  The Incredible Hulk  Marvel   6.7         61   \n",
            "2            3                           Iron Man 2  Marvel   7.0         57   \n",
            "3            4                                 Thor  Marvel   7.0         57   \n",
            "4            5   Captain America: The First Avenger  Marvel   6.9         66   \n",
            "5            6                         The Avengers  Marvel   8.0         69   \n",
            "6            7                       Iron Man Three  Marvel   7.2         62   \n",
            "7            8                 Thor: The Dark World  Marvel   6.9         54   \n",
            "8            9  Captain America: The Winter Soldier  Marvel   7.7         70   \n",
            "9           10              Guardians of the Galaxy  Marvel   8.0         76   \n",
            "10          11             Avengers: Age of Ultron   Marvel   7.3         66   \n",
            "11          12                              Ant-Man  Marvel   7.3         64   \n",
            "12          13           Captain America: Civil War  Marvel   7.8         75   \n",
            "13          14                       Doctor Strange  Marvel   7.5         72   \n",
            "14          15       Guardians of the Galaxy Vol. 2  Marvel   7.6         67   \n",
            "15          16               Spider-Man: Homecoming  Marvel   7.4         73   \n",
            "16          17                        Thor:Ragnarok  Marvel   7.9         74   \n",
            "17          18                        Black Panther  Marvel   7.3         88   \n",
            "18          19               Avengers: Infinity War  Marvel   8.5         68   \n",
            "19          20                 Ant-Man and the Wasp  Marvel   7.1         70   \n",
            "20          21                        Captain Marve  Marvel   6.9         64   \n",
            "21          22                    Avengers: Endgame  Marvel   8.5         78   \n",
            "22          23            Spider-Man: Far from Home  Marvel   7.6         69   \n",
            "23          24                             Catwoman      DC   3.3         27   \n",
            "24          25                        Batman Begins      DC   8.2         70   \n",
            "25          26                     Superman Returns      DC   6.0         72   \n",
            "26          27                      The Dark Knight      DC   9.0         84   \n",
            "27          28                             Watchmen      DC   7.6         56   \n",
            "28          29                           Jonah Hex       DC   4.7         33   \n",
            "29          30                        Green Lantern      DC   5.5         39   \n",
            "30          31                The Dark Knight Rises      DC   8.4         78   \n",
            "31          32                         Man of Steel      DC   7.1         55   \n",
            "32          33   Batman v Superman: Dawn of Justice      DC   6.5         44   \n",
            "33          34                       Suicide Squad       DC   6.0         40   \n",
            "34          35                         Wonder Woman      DC   7.4         76   \n",
            "35          36                       Justice League      DC   6.4         45   \n",
            "36          37                              Aquaman      DC   7.0         55   \n",
            "37          38                              Shazam!      DC   7.1         71   \n",
            "38          39                                Joker      DC   8.7         59   \n",
            "\n",
            "   Minutes  Release      Budget  Opening Weekend USA  Gross USA  \\\n",
            "0      126     2008   140000000             98618668  318604126   \n",
            "1     112      2008   150000000             55414050  134806913   \n",
            "2     124      2010   200000000            128122480  312433331   \n",
            "3      115     2011  150000000              65723338  181030624   \n",
            "4      124     2011   140000000             65058524  176654505   \n",
            "5      143     2012   220000000            207438708  623357910   \n",
            "6      130     2013  200000000             174144585  409013994   \n",
            "7      112     2013   170000000             85737841  206362140   \n",
            "8      136     2014   170000000             95023721  259766572   \n",
            "9      121     2014   170000000             94320883  333176600   \n",
            "10     141     2015   250000000            191271109  459005868   \n",
            "11     117     2015   130000000             57225526  180202163   \n",
            "12     147     2016   250000000            179139142  408084349   \n",
            "13     115     2016   165000000             85058311  232641920   \n",
            "14     136     2017   200000000            146510104  389813101   \n",
            "15     133     2017  175000000             117027503  334201140   \n",
            "16     130     2017   180000000            122744989  315058289   \n",
            "17     134     2018   200000000            202003951  700059566   \n",
            "18     149     2018  321000000             257698183  678815482   \n",
            "19     118     2018   162000000             75812205  216648740   \n",
            "20     123     2019  175000000             153433423  426829839   \n",
            "21     181     2019   356000000            357115007  858373000   \n",
            "22     129     2019   160000000             92579212  390532085   \n",
            "23     104     2004   100000000             16728411   40202379   \n",
            "24     140     2005   150000000             48745440  206852432   \n",
            "25     154     2006   270000000             52535096  200081192   \n",
            "26     152     2008   185000000            158411483  535234033   \n",
            "27     162     2009   130000000             55214334  107509799   \n",
            "28      81     2010   47000000               5379365   10547117   \n",
            "29     114     2011   200000000             53174303  116601172   \n",
            "30     164     2012   250000000            160887295  448139099   \n",
            "31     143     2013   225000000            116619362  291045518   \n",
            "32     151     2016   250000000            166007347  330360194   \n",
            "33     123     2016   175000000            133682248  325100054   \n",
            "34     141     2017   149000000            103251471  412563408   \n",
            "35     120     2017   300000000             93842239  229024295   \n",
            "36     143     2018   160000000             67873522  335061807   \n",
            "37     132     2019   100000000             53505326  140371656   \n",
            "38     122     2019   55000000              96202337  333204580   \n",
            "\n",
            "    Gross Worldwide  \n",
            "0         585366247  \n",
            "1         263427551  \n",
            "2         623933331  \n",
            "3         449326618  \n",
            "4         370569774  \n",
            "5        1518812988  \n",
            "6        1214811252  \n",
            "7         644783140  \n",
            "8         714421503  \n",
            "9         772776600  \n",
            "10       1402805868  \n",
            "11        519311965  \n",
            "12       1153296293  \n",
            "13        677718395  \n",
            "14        863756051  \n",
            "15        880166924  \n",
            "16        853977126  \n",
            "17       1346913161  \n",
            "18       2048359754  \n",
            "19        622674139  \n",
            "20       1128274794  \n",
            "21       2797800564  \n",
            "22       1131927996  \n",
            "23         82102379  \n",
            "24        373413297  \n",
            "25        391081192  \n",
            "26       1004934033  \n",
            "27        185258983  \n",
            "28         10903312  \n",
            "29        219851172  \n",
            "30       1081041287  \n",
            "31        668045518  \n",
            "32        873634919  \n",
            "33        746846894  \n",
            "34        821847012  \n",
            "35        657924295  \n",
            "36       1148161807  \n",
            "37        364571656  \n",
            "38       1060504580  \n"
          ]
        }
      ]
    },
    {
      "cell_type": "markdown",
      "source": [
        "# bar chart"
      ],
      "metadata": {
        "id": "5ZxvkRwAyUyU"
      }
    },
    {
      "cell_type": "code",
      "source": [
        "print(\"menampilkan bar chart:\")\n",
        "plt.figure(figsize=(15, 8))\n",
        "df.groupby('Rate')['Metascore'].sum().plot(kind='bar', color='yellow')\n",
        "plt.title('Jumlah film yang dirilis per Tahun')\n",
        "plt.xlabel('Rate')\n",
        "plt.ylabel('Metascore')\n",
        "plt.xticks(rotation=45)\n",
        "plt.show()"
      ],
      "metadata": {
        "colab": {
          "base_uri": "https://localhost:8080/",
          "height": 671
        },
        "id": "w6pk87uG1O6K",
        "outputId": "92aca90b-983d-4649-80ca-ba6ad88643d3"
      },
      "execution_count": 20,
      "outputs": [
        {
          "output_type": "stream",
          "name": "stdout",
          "text": [
            "menampilkan bar chart:\n"
          ]
        },
        {
          "output_type": "display_data",
          "data": {
            "text/plain": [
              "<Figure size 1500x800 with 1 Axes>"
            ],
            "image/png": "[encoded data removed]"
          },
          "metadata": {}
        }
      ]
    },
    {
      "cell_type": "markdown",
      "source": [
        "## pie chart"
      ],
      "metadata": {
        "id": "CA4IdPHJx9sq"
      }
    },
    {
      "cell_type": "code",
      "source": [
        "plt.figure(figsize=(10, 5))\n",
        "plt.pie(df['Company'].value_counts(), labels=df['Company'].value_counts().index, autopct='%1.1f%%', colors=['lightcoral', 'lightblue'])\n",
        "plt.title('menghitung distribusi compeny film')\n",
        "plt.show()"
      ],
      "metadata": {
        "colab": {
          "base_uri": "https://localhost:8080/",
          "height": 444
        },
        "id": "yGZyzIA8uFqY",
        "outputId": "180d792a-b622-4814-d62a-7c1f6d7f14d7"
      },
      "execution_count": 29,
      "outputs": [
        {
          "output_type": "display_data",
          "data": {
            "text/plain": [
              "<Figure size 1000x500 with 1 Axes>"
            ],
            "image/png": "[encoded data removed]"
          },
          "metadata": {}
        }
      ]
    }
  ]
}